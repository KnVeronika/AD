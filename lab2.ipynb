{
 "cells": [
  {
   "attachments": {},
   "cell_type": "markdown",
   "metadata": {},
   "source": [
    "Підготовка та аналіз даних\n",
    "\n",
    "Лабораторна робота №1\n",
    "\n",
    "Наука про дані: підготовчий етап\n",
    "\n",
    "ФБ-21 Каюн Вероніка"
   ]
  },
  {
   "cell_type": "code",
   "execution_count": 47,
   "metadata": {},
   "outputs": [
    {
     "name": "stdout",
     "output_type": "stream",
     "text": [
      "Setup ok\n"
     ]
    }
   ],
   "source": [
    "import datetime\n",
    "import os\n",
    "import urllib\n",
    "import matplotlib.pyplot as plt\n",
    "import pandas as pd\n",
    "\n",
    "print(\"Setup ok\")"
   ]
  },
  {
   "attachments": {},
   "cell_type": "markdown",
   "metadata": {},
   "source": [
    "• Для кожної із адміністративних одиниць України завантажити тестові структуровані файли, що містять значення VHI-індексу. Ця процедура має бути автоматизована, параметром процедури має бути індекс (номер) області. При зберіганні файлу до його імені потрібно додати дату та час завантаження;"
   ]
  },
  {
   "cell_type": "code",
   "execution_count": 48,
   "metadata": {},
   "outputs": [],
   "source": [
    "def download_data(province_id,year1=1981,year2=2024):\n",
    "    url = f\"https://www.star.nesdis.noaa.gov/smcd/emb/vci/VH/get_TS_admin.php?country=UKR&provinceID={province_id}&year1={year1}&year2={year2}&type=Mean\"\n",
    "    vhi_url = urllib.request.urlopen(url)\n",
    "    current_datetime = datetime.datetime.now().strftime('%Y-%m-%d_%H-%M')\n",
    "    filename = f'vhi_id__{province_id}__{current_datetime}'\n",
    "    out = open(f'files/{filename}.csv','wb')\n",
    "    out.write(vhi_url.read())\n",
    "    out.close()\n",
    "    print(f\"VHI is downloaded in {filename}\")\n",
    "    return"
   ]
  },
  {
   "cell_type": "code",
   "execution_count": 49,
   "metadata": {},
   "outputs": [
    {
     "name": "stdout",
     "output_type": "stream",
     "text": [
      "VHI is downloaded in vhi_id__1__2024-03-07_19-33\n",
      "VHI is downloaded in vhi_id__2__2024-03-07_19-33\n",
      "VHI is downloaded in vhi_id__3__2024-03-07_19-33\n",
      "VHI is downloaded in vhi_id__4__2024-03-07_19-33\n",
      "VHI is downloaded in vhi_id__5__2024-03-07_19-33\n",
      "VHI is downloaded in vhi_id__6__2024-03-07_19-33\n",
      "VHI is downloaded in vhi_id__7__2024-03-07_19-33\n",
      "VHI is downloaded in vhi_id__8__2024-03-07_19-33\n",
      "VHI is downloaded in vhi_id__9__2024-03-07_19-33\n",
      "VHI is downloaded in vhi_id__10__2024-03-07_19-33\n",
      "VHI is downloaded in vhi_id__11__2024-03-07_19-33\n",
      "VHI is downloaded in vhi_id__12__2024-03-07_19-33\n",
      "VHI is downloaded in vhi_id__13__2024-03-07_19-33\n",
      "VHI is downloaded in vhi_id__14__2024-03-07_19-33\n",
      "VHI is downloaded in vhi_id__15__2024-03-07_19-33\n",
      "VHI is downloaded in vhi_id__16__2024-03-07_19-33\n",
      "VHI is downloaded in vhi_id__17__2024-03-07_19-33\n",
      "VHI is downloaded in vhi_id__18__2024-03-07_19-33\n",
      "VHI is downloaded in vhi_id__19__2024-03-07_19-33\n",
      "VHI is downloaded in vhi_id__20__2024-03-07_19-33\n",
      "VHI is downloaded in vhi_id__21__2024-03-07_19-33\n",
      "VHI is downloaded in vhi_id__22__2024-03-07_19-33\n",
      "VHI is downloaded in vhi_id__23__2024-03-07_19-33\n",
      "VHI is downloaded in vhi_id__24__2024-03-07_19-33\n",
      "VHI is downloaded in vhi_id__25__2024-03-07_19-33\n",
      "VHI is downloaded in vhi_id__26__2024-03-07_19-33\n",
      "VHI is downloaded in vhi_id__27__2024-03-07_19-33\n"
     ]
    }
   ],
   "source": [
    "# Завантажуємо дані для кожної адміністративної одиниці\n",
    "for i in range(1, 28):\n",
    "    download_data(i)"
   ]
  },
  {
   "attachments": {},
   "cell_type": "markdown",
   "metadata": {},
   "source": [
    "• Зчитати завантажені текстові файли у фрейм (детальніше про роботу із фреймами буде розказано у подальших лабораторних роботах). Імена стовбців фрейму мають бути змістовними та легкими для сприйняття (не повинно бути спеціалізованих символів, пробілів тощо). Ця задача має бути реалізована у вигляді окремої процедури, яка на вхід приймає шлях до директорії, в якій зберігаються файли;"
   ]
  },
  {
   "cell_type": "code",
   "execution_count": 50,
   "metadata": {},
   "outputs": [],
   "source": [
    "def read_files(directory):\n",
    "  files = os.listdir(directory)\n",
    "  headers = ['Year', 'Week', 'SMN', 'SMT', 'VCI', 'TCI', 'VHI', 'empty']\n",
    "  data_frame = pd.DataFrame()\n",
    "  for i in range(len(files)):\n",
    "    file_path = os.path.join(directory, files[i])\n",
    "    df = pd.read_csv(file_path, header = 1, names = headers)\n",
    "    df = df.drop(df.loc[df['VHI'] == -1].index)\n",
    "    df['area'] = i+1\n",
    "    \n",
    "    df['Year'] = df['Year'].str.replace('<tt><pre>', '')\n",
    "    \n",
    "    df = df.drop(df[df['Year'] == '</pre></tt>'].index)\n",
    "    df[\"Year\"] = df[\"Year\"].astype(int)\n",
    "    data_frame = pd.concat([data_frame, df])\n",
    "  return data_frame"
   ]
  },
  {
   "attachments": {},
   "cell_type": "markdown",
   "metadata": {},
   "source": [
    "• Реалізувати процедуру, яка змінить індекси областей, які використані на порталі NOAA на наступні:"
   ]
  },
  {
   "cell_type": "code",
   "execution_count": 51,
   "metadata": {},
   "outputs": [],
   "source": [
    "def rename_region(df):\n",
    "  names =  {1: \"Вінницька\", 2: \"Волинська\", 3: \"Дніпропетровська\", 4: \"Донецька\", 5: \"Житомирська\", 6: \"Закарпатська\", 7: \"Запорізька\", 8: \"Івано-Франківська\", 9: \"Київська\", 10: \"Кіровоградська\", 11: \"Луганська\", 12: \"Львівська\", 13: \"Миколаївська\", 14: \"Одеська\", 15: \"Полтавська\", 16: \"Рівенська\", 17: \"Сумська\", 18: \"Тернопільська\", 19: \"Харківська\", 20: \"Херсонська\", 21: \"Хмельницька\", 22: \"Черкаська\", 23: \"Чернівецька\", 24: \"Чернігівська\", 25: \"Республіка Крим\"}\n",
    " \n",
    "  for name in names:\n",
    "    df[\"area\"] = df[\"area\"].replace({name:names[name]})\n",
    "  return df"
   ]
  },
  {
   "cell_type": "code",
   "execution_count": 52,
   "metadata": {},
   "outputs": [
    {
     "name": "stdout",
     "output_type": "stream",
     "text": [
      "      Year  Week    SMN     SMT    VCI    TCI    VHI  empty       area\n",
      "0     1982   1.0  0.059  258.24  51.11  48.78  49.95    NaN  Вінницька\n",
      "1     1982   2.0  0.063  261.53  55.89  38.20  47.04    NaN  Вінницька\n",
      "2     1982   3.0  0.063  263.45  57.30  32.69  44.99    NaN  Вінницька\n",
      "3     1982   4.0  0.061  265.10  53.96  28.62  41.29    NaN  Вінницька\n",
      "4     1982   5.0  0.058  266.42  46.87  28.57  37.72    NaN  Вінницька\n",
      "...    ...   ...    ...     ...    ...    ...    ...    ...        ...\n",
      "2188  2024   5.0  0.101  275.13  58.55   8.77  33.66    NaN         27\n",
      "2189  2024   6.0  0.110  276.43  60.83   9.08  34.96    NaN         27\n",
      "2190  2024   7.0  0.120  277.97  61.35  10.45  35.90    NaN         27\n",
      "2191  2024   8.0  0.130  279.15  60.18  13.87  37.02    NaN         27\n",
      "2192  2024   9.0  0.142  280.64  59.61  16.63  38.12    NaN         27\n",
      "\n",
      "[57861 rows x 9 columns]\n"
     ]
    }
   ],
   "source": [
    "directory = 'files'\n",
    "df = rename_region(read_files(directory))\n",
    "print(df)\n"
   ]
  },
  {
   "attachments": {},
   "cell_type": "markdown",
   "metadata": {},
   "source": [
    "Ряд VHI для області за рік та пошук екстремумів (мінімуму та максимуму):"
   ]
  },
  {
   "cell_type": "code",
   "execution_count": 53,
   "metadata": {},
   "outputs": [
    {
     "name": "stdout",
     "output_type": "stream",
     "text": [
      "Екстремуми для області Вінницька у 2020 році:\n",
      "Мінімум: 37.43\n",
      "Максимум: 67.65\n"
     ]
    }
   ],
   "source": [
    "def find_extremes(vhi_series):\n",
    "    min_vhi = vhi_series.min()\n",
    "    max_vhi = vhi_series.max()\n",
    "    return {'min': min_vhi, 'max': max_vhi}\n",
    "\n",
    "# Приклад використання:\n",
    "region = 'Вінницька'  # Замініть на назву області, для якої ви хочете отримати ряд VHI\n",
    "year = 2020  # Замініть на рік, для якого ви хочете отримати ряд VHI\n",
    "extremes = find_extremes(vhi_series)\n",
    "print(f\"Екстремуми для області {region} у {year} році:\")\n",
    "print(f\"Мінімум: {extremes['min']}\")\n",
    "print(f\"Максимум: {extremes['max']}\")\n"
   ]
  },
  {
   "attachments": {},
   "cell_type": "markdown",
   "metadata": {},
   "source": [
    "Ряд VHI за всі роки для області, виявити роки з екстремальними посухами, які торкнулися більше вказаного відсотка області;"
   ]
  },
  {
   "cell_type": "code",
   "execution_count": 94,
   "metadata": {},
   "outputs": [
    {
     "name": "stdout",
     "output_type": "stream",
     "text": [
      "[1984 1986 1993 1994 1999 2000 2003 2007 2012]\n"
     ]
    }
   ],
   "source": [
    "def dry(df, area, percent):\n",
    "    df_area = df[df[\"area\"] == area]\n",
    "    df_drought = df[(df.VHI <= percent)][\"Year\"].unique()\n",
    "    df_drought.sort()\n",
    "    return df_drought\n",
    "\n",
    "\n",
    "print(dry(df, \"Вінницька\", 15))"
   ]
  },
  {
   "cell_type": "code",
   "execution_count": 95,
   "metadata": {},
   "outputs": [
    {
     "name": "stdout",
     "output_type": "stream",
     "text": [
      "[1982 1983 1984 1985 1986 1987 1988 1989 1990 1991 1992 1993 1994 1995\n",
      " 1996 1997 1998 1999 2000 2001 2002 2003 2004 2005 2006 2007 2008 2009\n",
      " 2010 2011 2012 2013 2014 2015 2016 2017 2018 2019 2020 2021 2022 2023\n",
      " 2024]\n"
     ]
    }
   ],
   "source": [
    "def dry(df, area, percent):\n",
    "    df_area = df[df[\"area\"] == area]\n",
    "    df_drought = df[(df.VHI <= percent)][\"Year\"].unique()\n",
    "    df_drought.sort()\n",
    "    return df_drought\n",
    "\n",
    "\n",
    "print(dry(df, \"Вінницька\", 35))"
   ]
  }
 ],
 "metadata": {
  "kernelspec": {
   "display_name": "Python 3",
   "language": "python",
   "name": "python3"
  },
  "language_info": {
   "codemirror_mode": {
    "name": "ipython",
    "version": 3
   },
   "file_extension": ".py",
   "mimetype": "text/x-python",
   "name": "python",
   "nbconvert_exporter": "python",
   "pygments_lexer": "ipython3",
   "version": "3.10.7"
  },
  "orig_nbformat": 4,
  "vscode": {
   "interpreter": {
    "hash": "e164382a8cc9e5553455105426bfc137fe3c2fad22328cef214b544b558fc822"
   }
  }
 },
 "nbformat": 4,
 "nbformat_minor": 2
}
