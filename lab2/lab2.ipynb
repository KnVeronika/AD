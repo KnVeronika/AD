{
 "cells": [
  {
   "attachments": {},
   "cell_type": "markdown",
   "metadata": {},
   "source": [
    "# Підготовка та аналіз даних \n",
    "## Лабораторна робота №1\n",
    "### Наука про дані: підготовчий етап\n",
    "### ФБ-21 Каюн Вероніка\n",
    "<b>Мета роботи:</b> ознайомитися з основними кроками по роботі з даними – workflow від постановки задачі до написання пояснювальної записки, зрозуміти постановку задачі та природу даних, над якими виконується аналітичні операції\n"
   ]
  },
  {
   "cell_type": "code",
   "execution_count": 4,
   "metadata": {},
   "outputs": [
    {
     "name": "stdout",
     "output_type": "stream",
     "text": [
      "Setup ok\n"
     ]
    }
   ],
   "source": [
    "import os\n",
    "import pandas as pd\n",
    "import urllib.request\n",
    "import datetime\n",
    "import shutil\n",
    "print(\"Setup ok\")"
   ]
  },
  {
   "attachments": {},
   "cell_type": "markdown",
   "metadata": {},
   "source": [
    "• Для кожної із адміністративних одиниць України завантажити тестові структуровані файли, що містять значення VHI-індексу. Ця процедура має бути автоматизована, параметром процедури має бути індекс (номер) області. При зберіганні файлу до його імені потрібно додати дату та час завантаження;"
   ]
  },
  {
   "cell_type": "code",
   "execution_count": 5,
   "metadata": {},
   "outputs": [],
   "source": [
    "directory='files'\n",
    "if os.path.exists(directory):\n",
    "    shutil.rmtree(directory)\n",
    "os.makedirs(directory, exist_ok=True)\n",
    "def download_data(province_id,year1=1981,year2=2024):\n",
    "        \n",
    "    url = f\"https://www.star.nesdis.noaa.gov/smcd/emb/vci/VH/get_TS_admin.php?country=UKR&provinceID={province_id}&year1={year1}&year2={year2}&type=Mean\"\n",
    "    vhi_url = urllib.request.urlopen(url)\n",
    "    current_datetime = datetime.datetime.now().strftime('%Y-%m-%d_%H-%M')\n",
    "    filename = f'vhi_id__{province_id}__{current_datetime}'\n",
    "    \n",
    "    out = open(f'files/{filename}.csv','wb')\n",
    "    out.write(vhi_url.read())\n",
    "    out.close()\n",
    "    print(f\"VHI is downloaded in {filename}\")\n",
    "    return filename\n",
    "\n"
   ]
  },
  {
   "cell_type": "code",
   "execution_count": 6,
   "metadata": {},
   "outputs": [
    {
     "name": "stdout",
     "output_type": "stream",
     "text": [
      "VHI is downloaded in vhi_id__1__2024-03-22_20-52\n",
      "VHI is downloaded in vhi_id__2__2024-03-22_20-52\n",
      "VHI is downloaded in vhi_id__3__2024-03-22_20-52\n",
      "VHI is downloaded in vhi_id__4__2024-03-22_20-52\n",
      "VHI is downloaded in vhi_id__5__2024-03-22_20-52\n",
      "VHI is downloaded in vhi_id__6__2024-03-22_20-52\n",
      "VHI is downloaded in vhi_id__7__2024-03-22_20-52\n",
      "VHI is downloaded in vhi_id__8__2024-03-22_20-52\n",
      "VHI is downloaded in vhi_id__9__2024-03-22_20-52\n",
      "VHI is downloaded in vhi_id__10__2024-03-22_20-52\n",
      "VHI is downloaded in vhi_id__11__2024-03-22_20-52\n",
      "VHI is downloaded in vhi_id__12__2024-03-22_20-52\n",
      "VHI is downloaded in vhi_id__13__2024-03-22_20-52\n",
      "VHI is downloaded in vhi_id__14__2024-03-22_20-52\n",
      "VHI is downloaded in vhi_id__15__2024-03-22_20-52\n",
      "VHI is downloaded in vhi_id__16__2024-03-22_20-52\n",
      "VHI is downloaded in vhi_id__17__2024-03-22_20-52\n",
      "VHI is downloaded in vhi_id__18__2024-03-22_20-52\n",
      "VHI is downloaded in vhi_id__19__2024-03-22_20-52\n",
      "VHI is downloaded in vhi_id__20__2024-03-22_20-52\n",
      "VHI is downloaded in vhi_id__21__2024-03-22_20-52\n",
      "VHI is downloaded in vhi_id__22__2024-03-22_20-52\n",
      "VHI is downloaded in vhi_id__23__2024-03-22_20-52\n",
      "VHI is downloaded in vhi_id__24__2024-03-22_20-52\n",
      "VHI is downloaded in vhi_id__25__2024-03-22_20-52\n",
      "VHI is downloaded in vhi_id__26__2024-03-22_20-52\n",
      "VHI is downloaded in vhi_id__27__2024-03-22_20-52\n"
     ]
    }
   ],
   "source": [
    "# Завантажуємо дані для кожної адміністративної одиниці\n",
    "for i in range(1, 28):\n",
    "    download_data(i)"
   ]
  },
  {
   "attachments": {},
   "cell_type": "markdown",
   "metadata": {},
   "source": [
    "• Зчитати завантажені текстові файли у фрейм (детальніше про роботу із фреймами буде розказано у подальших лабораторних роботах). Імена стовбців фрейму мають бути змістовними та легкими для сприйняття (не повинно бути спеціалізованих символів, пробілів тощо). Ця задача має бути реалізована у вигляді окремої процедури, яка на вхід приймає шлях до директорії, в якій зберігаються файли;"
   ]
  },
  {
   "cell_type": "code",
   "execution_count": 20,
   "metadata": {},
   "outputs": [],
   "source": [
    "def read_files(directory):\n",
    "  files = os.listdir(directory)\n",
    "  headers = ['Year', 'Week', 'SMN', 'SMT', 'VCI', 'TCI', 'VHI', 'empty']\n",
    "  data_frame = pd.DataFrame()\n",
    "  for i in range(len(files)):\n",
    "    file_path = os.path.join(directory, files[i])\n",
    "    df = pd.read_csv(file_path, header = 1, names = headers)\n",
    "    df = df.drop('empty', axis=1)\n",
    "    df = df.drop(df.loc[df['VHI'] == -1].index)\n",
    "    df['area'] = i+1\n",
    "    df['Year'] = df['Year'].str.replace('<tt><pre>', '')\n",
    "    df = df.drop(df[df['Year'] == '</pre></tt>'].index)\n",
    "    df[\"Year\"] = df[\"Year\"].astype(int)\n",
    "    data_frame = pd.concat([data_frame, df])\n",
    "    \n",
    "  data_frame=data_frame.reset_index(drop=True) \n",
    "  return data_frame"
   ]
  },
  {
   "cell_type": "code",
   "execution_count": 21,
   "metadata": {},
   "outputs": [
    {
     "name": "stdout",
     "output_type": "stream",
     "text": [
      "       Year  Week    SMN     SMT    VCI    TCI    VHI  area\n",
      "0      1982   1.0  0.059  258.24  51.11  48.78  49.95     1\n",
      "1      1982   2.0  0.063  261.53  55.89  38.20  47.04     1\n",
      "2      1982   3.0  0.063  263.45  57.30  32.69  44.99     1\n",
      "3      1982   4.0  0.061  265.10  53.96  28.62  41.29     1\n",
      "4      1982   5.0  0.058  266.42  46.87  28.57  37.72     1\n",
      "...     ...   ...    ...     ...    ...    ...    ...   ...\n",
      "57910  2024   7.0  0.121  279.49  61.95   4.74  33.34    27\n",
      "57911  2024   8.0  0.132  281.65  61.16   4.58  32.87    27\n",
      "57912  2024   9.0  0.143  283.52  60.00   5.64  32.82    27\n",
      "57913  2024  10.0  0.152  285.16  57.23   8.11  32.67    27\n",
      "57914  2024  11.0  0.153  285.44  52.03  14.62  33.33    27\n",
      "\n",
      "[57915 rows x 8 columns]\n"
     ]
    }
   ],
   "source": [
    "df = read_files(directory)\n",
    "print(df)"
   ]
  },
  {
   "attachments": {},
   "cell_type": "markdown",
   "metadata": {},
   "source": [
    "• Реалізувати процедуру, яка змінить індекси областей, які використані на порталі NOAA на наступні:"
   ]
  },
  {
   "cell_type": "code",
   "execution_count": 22,
   "metadata": {},
   "outputs": [],
   "source": [
    "def rename_region(df):\n",
    "  names =  {1: \"Вінницька\", 2: \"Волинська\", 3: \"Дніпропетровська\", 4: \"Донецька\", 5: \"Житомирська\", 6: \"Закарпатська\", 7: \"Запорізька\", 8: \"Івано-Франківська\", 9: \"Київська\", 10: \"Кіровоградська\", 11: \"Луганська\", 12: \"Львівська\", 13: \"Миколаївська\", 14: \"Одеська\", 15: \"Полтавська\", 16: \"Рівенська\", 17: \"Сумська\", 18: \"Тернопільська\", 19: \"Харківська\", 20: \"Херсонська\", 21: \"Хмельницька\", 22: \"Черкаська\", 23: \"Чернівецька\", 24: \"Чернігівська\", 25: \"Республіка Крим\", 26: \"Київ\", 27: \"Севастопіль\"}\n",
    " \n",
    "  for name in names:\n",
    "    df[\"area\"] = df[\"area\"].replace({name:names[name]})\n",
    "  return df"
   ]
  },
  {
   "cell_type": "code",
   "execution_count": 23,
   "metadata": {},
   "outputs": [
    {
     "name": "stdout",
     "output_type": "stream",
     "text": [
      "       Year  Week    SMN     SMT    VCI    TCI    VHI         area\n",
      "0      1982   1.0  0.059  258.24  51.11  48.78  49.95    Вінницька\n",
      "1      1982   2.0  0.063  261.53  55.89  38.20  47.04    Вінницька\n",
      "2      1982   3.0  0.063  263.45  57.30  32.69  44.99    Вінницька\n",
      "3      1982   4.0  0.061  265.10  53.96  28.62  41.29    Вінницька\n",
      "4      1982   5.0  0.058  266.42  46.87  28.57  37.72    Вінницька\n",
      "...     ...   ...    ...     ...    ...    ...    ...          ...\n",
      "57910  2024   7.0  0.121  279.49  61.95   4.74  33.34  Севастопіль\n",
      "57911  2024   8.0  0.132  281.65  61.16   4.58  32.87  Севастопіль\n",
      "57912  2024   9.0  0.143  283.52  60.00   5.64  32.82  Севастопіль\n",
      "57913  2024  10.0  0.152  285.16  57.23   8.11  32.67  Севастопіль\n",
      "57914  2024  11.0  0.153  285.44  52.03  14.62  33.33  Севастопіль\n",
      "\n",
      "[57915 rows x 8 columns]\n"
     ]
    }
   ],
   "source": [
    "df = rename_region(read_files(directory))\n",
    "print(df)\n"
   ]
  },
  {
   "attachments": {},
   "cell_type": "markdown",
   "metadata": {},
   "source": [
    "Ряд VHI для області за рік та пошук екстремумів (мінімуму та максимуму):"
   ]
  },
  {
   "cell_type": "code",
   "execution_count": 11,
   "metadata": {},
   "outputs": [
    {
     "name": "stdout",
     "output_type": "stream",
     "text": [
      "Екстремуми для області Вінницька у 2020 році:\n",
      "Мінімум: 37.43\n",
      "Максимум: 67.65\n",
      "\n",
      "Екстремуми для області Волинська у 2020 році:\n",
      "Мінімум: 29.27\n",
      "Максимум: 56.3\n",
      "\n",
      "Екстремуми для області Дніпропетровська у 2020 році:\n",
      "Мінімум: 30.71\n",
      "Максимум: 60.83\n",
      "\n",
      "Екстремуми для області Донецька у 2020 році:\n",
      "Мінімум: 22.73\n",
      "Максимум: 63.63\n",
      "\n",
      "Екстремуми для області Житомирська у 2020 році:\n",
      "Мінімум: 21.29\n",
      "Максимум: 64.39\n",
      "\n",
      "Екстремуми для області Закарпатська у 2020 році:\n",
      "Мінімум: 41.35\n",
      "Максимум: 63.06\n",
      "\n",
      "Екстремуми для області Запорізька у 2020 році:\n",
      "Мінімум: 19.28\n",
      "Максимум: 58.11\n",
      "\n",
      "Екстремуми для області Івано-Франківська у 2020 році:\n",
      "Мінімум: 22.77\n",
      "Максимум: 46.71\n",
      "\n",
      "Екстремуми для області Київська у 2020 році:\n",
      "Мінімум: 26.22\n",
      "Максимум: 64.77\n",
      "\n",
      "Екстремуми для області Кіровоградська у 2020 році:\n",
      "Мінімум: 37.68\n",
      "Максимум: 66.01\n",
      "\n",
      "Екстремуми для області Луганська у 2020 році:\n",
      "Мінімум: 29.29\n",
      "Максимум: 60.9\n",
      "\n",
      "Екстремуми для області Львівська у 2020 році:\n",
      "Мінімум: 36.76\n",
      "Максимум: 51.22\n",
      "\n",
      "Екстремуми для області Миколаївська у 2020 році:\n",
      "Мінімум: 24.52\n",
      "Максимум: 72.11\n",
      "\n",
      "Екстремуми для області Одеська у 2020 році:\n",
      "Мінімум: 40.2\n",
      "Максимум: 68.55\n",
      "\n",
      "Екстремуми для області Полтавська у 2020 році:\n",
      "Мінімум: 38.94\n",
      "Максимум: 68.67\n",
      "\n",
      "Екстремуми для області Рівенська у 2020 році:\n",
      "Мінімум: 34.48\n",
      "Максимум: 64.12\n",
      "\n",
      "Екстремуми для області Сумська у 2020 році:\n",
      "Мінімум: 39.48\n",
      "Максимум: 61.93\n",
      "\n",
      "Екстремуми для області Тернопільська у 2020 році:\n",
      "Мінімум: 18.27\n",
      "Максимум: 66.4\n",
      "\n",
      "Екстремуми для області Харківська у 2020 році:\n",
      "Мінімум: 35.05\n",
      "Максимум: 58.33\n",
      "\n",
      "Екстремуми для області Херсонська у 2020 році:\n",
      "Мінімум: 23.16\n",
      "Максимум: 66.55\n",
      "\n",
      "Екстремуми для області Хмельницька у 2020 році:\n",
      "Мінімум: 42.25\n",
      "Максимум: 66.4\n",
      "\n",
      "Екстремуми для області Черкаська у 2020 році:\n",
      "Мінімум: 18.79\n",
      "Максимум: 39.47\n",
      "\n",
      "Екстремуми для області Чернівецька у 2020 році:\n",
      "Мінімум: 19.4\n",
      "Максимум: 68.14\n",
      "\n",
      "Екстремуми для області Чернігівська у 2020 році:\n",
      "Мінімум: 17.88\n",
      "Максимум: 59.14\n",
      "\n",
      "Екстремуми для області Республіка Крим у 2020 році:\n",
      "Мінімум: 39.78\n",
      "Максимум: 62.91\n",
      "\n",
      "Екстремуми для області Київ у 2020 році:\n",
      "Мінімум: 20.89\n",
      "Максимум: 66.26\n",
      "\n",
      "Екстремуми для області Севастопіль у 2020 році:\n",
      "Мінімум: 24.49\n",
      "Максимум: 63.49\n",
      "\n"
     ]
    }
   ],
   "source": [
    "def find_extremes(df, area, year):\n",
    "    region_year_data = df[(df[\"area\"] == area) & (df[\"Year\"] == year)]\n",
    "    vhi_series = region_year_data[\"VHI\"]\n",
    "    \n",
    "    min_vhi = vhi_series.min()\n",
    "    max_vhi = vhi_series.max()\n",
    "    \n",
    "    return {'min': min_vhi, 'max': max_vhi}\n",
    "\n",
    "def extremes_for_regions(df, year):\n",
    "    regions = df[\"area\"].unique()\n",
    "    for region in regions:\n",
    "        extremes = find_extremes(df, region, year)\n",
    "        print(f\"Екстремуми для області {region} у {year} році:\")\n",
    "        print(f\"Мінімум: {extremes['min']}\")\n",
    "        print(f\"Максимум: {extremes['max']}\\n\")\n",
    "\n",
    "# Приклад використання:\n",
    "year = 2020  \n",
    "extremes_for_regions(df, year)\n",
    "\n",
    "\n"
   ]
  },
  {
   "attachments": {},
   "cell_type": "markdown",
   "metadata": {},
   "source": [
    "Ряд VHI за вказаний діапазон років для вказаних областей; виявити роки, протягом яких екстремальні посухи торкнулися більше вказаного відсотка областей по Україні (20% областей - 5 областей з 25);"
   ]
  },
  {
   "cell_type": "code",
   "execution_count": 24,
   "metadata": {},
   "outputs": [
    {
     "name": "stdout",
     "output_type": "stream",
     "text": [
      "[(2000, 6, '22.22%'), (2007, 5, '18.52%')]\n"
     ]
    }
   ],
   "source": [
    "def find_drough(df, percent):\n",
    "    result = []\n",
    "\n",
    "    for year, group_df in df.groupby('Year'):\n",
    "        total_areas = len(group_df['area'].unique())\n",
    "        drought_areas = len(group_df[group_df['VHI'] < 15]['area'].unique())\n",
    "\n",
    "        if (drought_areas / total_areas) > (percent / 100):\n",
    "            percent_str = f\"{round((drought_areas / total_areas) * 100, 2)}%\"\n",
    "            result.append((year, drought_areas, percent_str))\n",
    "\n",
    "\n",
    "    return result\n",
    "\n",
    "percent = 10\n",
    "drought = find_drough(df, percent)\n",
    "print(drought)"
   ]
  },
  {
   "cell_type": "code",
   "execution_count": 15,
   "metadata": {},
   "outputs": [
    {
     "name": "stdout",
     "output_type": "stream",
     "text": [
      "       index  Year  Week    SMN     SMT    VCI    TCI    VHI         area\n",
      "1666    1716  2015   1.0  0.057  256.27  45.91  50.34  48.12    Вінницька\n",
      "1667    1717  2015   2.0  0.059  255.97  50.00  52.62  51.31    Вінницька\n",
      "1668    1718  2015   3.0  0.065  257.98  57.38  46.72  52.05    Вінницька\n",
      "1669    1719  2015   4.0  0.070  260.68  61.66  39.14  50.40    Вінницька\n",
      "1670    1720  2015   5.0  0.075  264.23  60.60  33.08  46.84    Вінницька\n",
      "...      ...   ...   ...    ...     ...    ...    ...    ...          ...\n",
      "49163   2023  2020  48.0  0.131  273.87  73.94  10.30  42.12  Чернівецька\n",
      "49164   2024  2020  49.0  0.114  271.41  73.50  12.52  43.01  Чернівецька\n",
      "49165   2025  2020  50.0  0.099  268.84  71.77  15.44  43.61  Чернівецька\n",
      "49166   2026  2020  51.0  0.087  266.70  71.94  17.96  44.95  Чернівецька\n",
      "49167   2027  2020  52.0  0.078  264.99  73.06  21.18  47.12  Чернівецька\n",
      "\n",
      "[624 rows x 9 columns]\n"
     ]
    }
   ],
   "source": [
    "def vhi(df, year1, year2, areas):\n",
    "    data = df[(df['Year']>=year1) & (df['Year']<=year2) & (df['area'].isin(areas))]\n",
    "    return data\n",
    "year1= 2015   \n",
    "year2 =2020\n",
    "areas=['Чернівецька', 'Вінницька']\n",
    "vhi1=vhi(df, year1, year2, areas)\n",
    " \n",
    "print(vhi1)"
   ]
  },
  {
   "attachments": {},
   "cell_type": "markdown",
   "metadata": {},
   "source": [
    "Аналогічно для помірних посух"
   ]
  },
  {
   "cell_type": "code",
   "execution_count": 25,
   "metadata": {},
   "outputs": [
    {
     "name": "stdout",
     "output_type": "stream",
     "text": [
      "[(1982, 27, '100.0%'), (1983, 26, '96.3%'), (1984, 26, '96.3%'), (1985, 26, '96.3%'), (1986, 27, '100.0%'), (1987, 20, '74.07%'), (1988, 24, '88.89%'), (1989, 26, '96.3%'), (1990, 25, '92.59%'), (1991, 24, '88.89%'), (1992, 24, '88.89%'), (1993, 25, '92.59%'), (1994, 22, '81.48%'), (1995, 26, '96.3%'), (1996, 26, '96.3%'), (1997, 16, '59.26%'), (1998, 7, '25.93%'), (1999, 22, '81.48%'), (2000, 27, '100.0%'), (2001, 12, '44.44%'), (2002, 12, '44.44%'), (2003, 13, '48.15%'), (2004, 3, '11.11%'), (2005, 7, '25.93%'), (2006, 13, '48.15%'), (2007, 15, '55.56%'), (2008, 16, '59.26%'), (2009, 16, '59.26%'), (2010, 14, '51.85%'), (2011, 18, '66.67%'), (2012, 13, '48.15%'), (2013, 17, '62.96%'), (2014, 11, '40.74%'), (2015, 24, '88.89%'), (2016, 15, '55.56%'), (2017, 11, '40.74%'), (2018, 15, '55.56%'), (2019, 26, '96.3%'), (2020, 17, '62.96%'), (2021, 11, '40.74%'), (2022, 7, '25.93%'), (2023, 21, '77.78%')]\n"
     ]
    }
   ],
   "source": [
    "def find_drough(df, percent):\n",
    "    result = []\n",
    "\n",
    "    for year, group_df in df.groupby('Year'):\n",
    "        total_areas = len(group_df['area'].unique())\n",
    "        drought_areas = len(group_df[(group_df['VHI'] > 15) & (group_df['VHI'] < 35)]['area'].unique())\n",
    "\n",
    "        if (drought_areas / total_areas) > (percent / 100):\n",
    "            percent_str = f\"{round((drought_areas / total_areas) * 100, 2)}%\"\n",
    "            result.append((year, drought_areas, percent_str))\n",
    "\n",
    "    return result\n",
    "\n",
    "percent = 10\n",
    "drought = find_drough(df, percent)\n",
    "print(drought)\n"
   ]
  }
 ],
 "metadata": {
  "kernelspec": {
   "display_name": "Python 3",
   "language": "python",
   "name": "python3"
  },
  "language_info": {
   "codemirror_mode": {
    "name": "ipython",
    "version": 3
   },
   "file_extension": ".py",
   "mimetype": "text/x-python",
   "name": "python",
   "nbconvert_exporter": "python",
   "pygments_lexer": "ipython3",
   "version": "3.10.7 (tags/v3.10.7:6cc6b13, Sep  5 2022, 14:08:36) [MSC v.1933 64 bit (AMD64)]"
  },
  "orig_nbformat": 4,
  "vscode": {
   "interpreter": {
    "hash": "e164382a8cc9e5553455105426bfc137fe3c2fad22328cef214b544b558fc822"
   }
  }
 },
 "nbformat": 4,
 "nbformat_minor": 2
}
